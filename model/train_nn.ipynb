{
 "cells": [
  {
   "cell_type": "markdown",
   "metadata": {
    "id": "WL0-sltAmVh5"
   },
   "source": [
    "# danbooru tagger training"
   ]
  },
  {
   "cell_type": "code",
   "execution_count": 1,
   "metadata": {},
   "outputs": [],
   "source": [
    "from tagger import *"
   ]
  },
  {
   "cell_type": "code",
   "execution_count": 2,
   "metadata": {},
   "outputs": [],
   "source": [
    "local = True\n",
    "reload = False"
   ]
  },
  {
   "cell_type": "code",
   "execution_count": 3,
   "metadata": {},
   "outputs": [],
   "source": [
    "init_patience = (2,1)[local]\n",
    "\n",
    "sched_params = {\n",
    "    .1:{\n",
    "        'threshold':.01,\n",
    "        'patience':init_patience,\n",
    "        'min_lr':.02,\n",
    "        'factor':.2\n",
    "    },\n",
    "    \n",
    "    .02:{\n",
    "        'threshold':1e-3,\n",
    "        'patience':init_patience*5,\n",
    "        'min_lr':1e-3,\n",
    "        'factor':.5\n",
    "    }\n",
    "}"
   ]
  },
  {
   "cell_type": "markdown",
   "metadata": {
    "heading_collapsed": true
   },
   "source": [
    "## data upload"
   ]
  },
  {
   "cell_type": "code",
   "execution_count": 4,
   "metadata": {
    "executionInfo": {
     "elapsed": 4,
     "status": "ok",
     "timestamp": 1657196524264,
     "user": {
      "displayName": "Mor Shay",
      "userId": "03998152450520253872"
     },
     "user_tz": -180
    },
    "hidden": true,
    "id": "aGTjv1jgmViG"
   },
   "outputs": [],
   "source": [
    "def get_data(train_ds, val_ds, bs):\n",
    "    \n",
    "    return (\n",
    "        DataLoader(\n",
    "            train_ds, batch_size=bs, shuffle=True),\n",
    "        DataLoader(\n",
    "            val_ds, batch_size=(2*bs, len(val_ds))[local])\n",
    "    )"
   ]
  },
  {
   "cell_type": "code",
   "execution_count": 5,
   "metadata": {
    "hidden": true
   },
   "outputs": [],
   "source": [
    "imgs_path = data_path / 'less-images'"
   ]
  },
  {
   "cell_type": "code",
   "execution_count": 6,
   "metadata": {
    "executionInfo": {
     "elapsed": 5129,
     "status": "ok",
     "timestamp": 1657196523630,
     "user": {
      "displayName": "Mor Shay",
      "userId": "03998152450520253872"
     },
     "user_tz": -180
    },
    "hidden": true,
    "id": "cJVSlKVimViD"
   },
   "outputs": [],
   "source": [
    "train_dir = imgs_path / 'train'\n",
    "train_ids = [int(f.stem) for f in train_dir.glob('*')]\n",
    "train_labels = all_labels[all_labels.id.isin(train_ids)]\n",
    "train_ds = DanbooruDataset(label_data=train_labels, img_dir=train_dir)"
   ]
  },
  {
   "cell_type": "code",
   "execution_count": 7,
   "metadata": {
    "executionInfo": {
     "elapsed": 636,
     "status": "ok",
     "timestamp": 1657196524263,
     "user": {
      "displayName": "Mor Shay",
      "userId": "03998152450520253872"
     },
     "user_tz": -180
    },
    "hidden": true,
    "id": "EScveuWNmViD"
   },
   "outputs": [],
   "source": [
    "val_dir = imgs_path / 'val'\n",
    "val_ids = [int(f.stem) for f in val_dir.glob('*')]\n",
    "val_labels = all_labels[all_labels.id.isin(val_ids)]\n",
    "val_ds = DanbooruDataset(label_data=val_labels, img_dir=val_dir)"
   ]
  },
  {
   "cell_type": "code",
   "execution_count": 8,
   "metadata": {
    "hidden": true
   },
   "outputs": [],
   "source": [
    "if local:\n",
    "    bs = 2\n",
    "    train_samp = get_random_sample(train_ds, 10)\n",
    "    val_samp = get_random_sample(val_ds, 2)\n",
    "    train_len, val_len = len(train_samp), len(val_samp)\n",
    "    train_dl, val_dl = get_data(train_samp, val_samp, bs)\n",
    "    \n",
    "else:\n",
    "    bs = 128\n",
    "    train_len, val_len = len(train_ds), len(val_ds)\n",
    "    train_dl, val_dl = get_data(train_ds, val_ds, bs)"
   ]
  },
  {
   "cell_type": "markdown",
   "metadata": {},
   "source": [
    "## defs"
   ]
  },
  {
   "cell_type": "markdown",
   "metadata": {
    "heading_collapsed": true
   },
   "source": [
    "### model and optimizer"
   ]
  },
  {
   "cell_type": "code",
   "execution_count": 9,
   "metadata": {
    "hidden": true
   },
   "outputs": [],
   "source": [
    "def load_model(finetune=False):\n",
    "    \n",
    "    model = Tagger().to(dev)\n",
    "    for param in model.base.parameters():\n",
    "        param.requires_grad = finetune\n",
    "    \n",
    "    if reload:\n",
    "        fp = Path()/'state-dicts'\n",
    "        fn = 'model_state_dict.pt'\n",
    "        try:\n",
    "            model.load_state_dict(torch.load(\n",
    "                fp / fn, map_location=dev))\n",
    "        except RuntimeError:\n",
    "            model.load_state_dict(torch.load(\n",
    "                f'backup_{fn}', map_location=dev))\n",
    "            \n",
    "    return model"
   ]
  },
  {
   "cell_type": "code",
   "execution_count": 10,
   "metadata": {
    "hidden": true
   },
   "outputs": [],
   "source": [
    "def set_optimizer(model):\n",
    "    \n",
    "    optimizer = optim.AdamW(lr=.1, params=filter(\n",
    "        lambda p: p.requires_grad, model.parameters()))\n",
    "\n",
    "    if reload:\n",
    "        fp = Path()/'state-dicts'\n",
    "        fn = 'opt_state_dict.pt'\n",
    "        try:\n",
    "            model.load_state_dict(torch.load(\n",
    "                fp / fn, map_location=dev))\n",
    "        except RuntimeError:\n",
    "            model.load_state_dict(torch.load(\n",
    "                fp / f'backup_{fn}', map_location=dev))\n",
    "    \n",
    "    return optimizer"
   ]
  },
  {
   "cell_type": "code",
   "execution_count": 11,
   "metadata": {
    "hidden": true
   },
   "outputs": [],
   "source": [
    "def save_model(model, opt, save_path=Path()/'state-dicts'):\n",
    "    \n",
    "    names = [f'{n}_state_dict.pt' for n in ['model', 'opt']]\n",
    "    paths = [save_path / n for n in names]\n",
    "    \n",
    "    torch.save(model.state_dict(), save_path / names[0])\n",
    "    torch.save(opt.state_dict(), save_path / names[1])\n",
    "    \n",
    "    backups = [save_path / f'backup_{n}' for n in names]\n",
    "    for i in range(2):\n",
    "        shutil.copy(paths[i], backups[i])"
   ]
  },
  {
   "cell_type": "markdown",
   "metadata": {},
   "source": [
    "### lr scheduler and early stopper"
   ]
  },
  {
   "cell_type": "code",
   "execution_count": 12,
   "metadata": {},
   "outputs": [],
   "source": [
    "class Scheduler(optim.lr_scheduler.ReduceLROnPlateau):\n",
    "    \n",
    "    def __init__(self, opt):\n",
    "        self.last_lr = round(opt.param_groups[0]['lr'], 5)\n",
    "        super().__init__(\n",
    "            opt, verbose=True, **sched_params[self.last_lr])\n",
    "        self.min_lr = self.min_lrs[0]\n",
    "        \n",
    "    def load(self, fp=Path()/'state-dicts'):\n",
    "        fn = 'sched_state_dict.pt'\n",
    "        try:\n",
    "            super().load_state_dict(torch.load(\n",
    "                fp / fn, map_location=dev))\n",
    "        except RuntimeError:\n",
    "            super().load_state_dict(torch.load(\n",
    "                fp / f'backup_{fn}', map_location=dev))\n",
    "    \n",
    "    def save(self, fp=Path()/'state-dicts'):\n",
    "        fn = 'sched_state_dict.pt'\n",
    "        sd = self.state_dict()\n",
    "        torch.save(sd, fp / fn)\n",
    "        torch.save(sd, fp / f'backup_{fn}')\n",
    "        \n",
    "    def step(self, val_loss):\n",
    "        super().step(val_loss)\n",
    "        self.last_lr = round(self._last_lr[0], 5)\n",
    "        self.save()\n",
    "        \n",
    "    def compare(self):\n",
    "        return self.last_lr == self.min_lr"
   ]
  },
  {
   "cell_type": "code",
   "execution_count": 13,
   "metadata": {},
   "outputs": [],
   "source": [
    "class EarlyStopper():\n",
    "\n",
    "    def __init__(self, patience=init_patience*10, min_delta=1e-4):\n",
    "        self.patience = patience\n",
    "        self.min_delta = min_delta\n",
    "        self.counter = 0\n",
    "        self.best_loss = None\n",
    "        self.early_stop = False\n",
    "        \n",
    "    def step(self, val_loss):\n",
    "        if self.best_loss == None:\n",
    "            self.best_loss = val_loss\n",
    "        elif self.best_loss - val_loss >= self.min_delta:\n",
    "            self.best_loss = val_loss\n",
    "            self.counter = 0\n",
    "            print(f'INFO: stopper counter reset')\n",
    "        else:\n",
    "            self.counter += 1\n",
    "            if self.counter == self.patience/2:\n",
    "                print('INFO: stopper counter halfway through')\n",
    "            self.early_stop = \\\n",
    "                self.counter >= self.patience"
   ]
  },
  {
   "cell_type": "code",
   "execution_count": 14,
   "metadata": {},
   "outputs": [],
   "source": [
    "def check_sched(sched, stopper):\n",
    "    if sched.last_lr >= list(sched_params.keys())[-1]:\n",
    "        sched = Scheduler(opt)\n",
    "        print('INFO: scheduler refreshed')\n",
    "    else:\n",
    "        stopper = EarlyStopper()\n",
    "        sched.last_lr=0\n",
    "        print('INFO: LR scheduling ended')\n",
    "    return sched, stopper"
   ]
  },
  {
   "cell_type": "markdown",
   "metadata": {},
   "source": [
    "### training loop"
   ]
  },
  {
   "cell_type": "code",
   "execution_count": 15,
   "metadata": {},
   "outputs": [],
   "source": [
    "def calc_batch_loss(xb, yb, model, opt=None, loss_func=nn.MSELoss()):\n",
    "\n",
    "    loss = loss_func(model(xb), yb)\n",
    "\n",
    "    if opt is not None:\n",
    "        loss.backward()\n",
    "        opt.step()\n",
    "        opt.zero_grad()\n",
    "\n",
    "    return loss.item()"
   ]
  },
  {
   "cell_type": "code",
   "execution_count": 16,
   "metadata": {},
   "outputs": [],
   "source": [
    "def fit(model, opt, sched, train_dl, val_dl, res):\n",
    "    stopper=None\n",
    "    while True:\n",
    "        \n",
    "        model.train()\n",
    "        running_loss = 0\n",
    "        for xb, yb in train_dl:\n",
    "            xb.to(dev)\n",
    "            yb.to(dev)\n",
    "            batch_loss = calc_batch_loss(xb, yb, model, opt)\n",
    "            running_loss += batch_loss*len(xb)\n",
    "            save_model(model, opt)\n",
    "        train_loss = running_loss/train_len\n",
    "\n",
    "        model.eval()\n",
    "        with torch.no_grad():\n",
    "            val_loss = np.sum([\n",
    "                calc_batch_loss(xb, yb, model)*len(xb)\n",
    "                    for xb, yb in val_dl\n",
    "            ]) / val_len\n",
    "        \n",
    "        print(f'epoch: {len(res)}', end=' | ')\n",
    "        print(f'train MSE: {train_loss:.4e}', end=' | ')\n",
    "        print(f'val MSE: {val_loss:.4e}')\n",
    "        res = pd.concat([res, pd.DataFrame({\n",
    "            'train': [train_loss], 'val':[val_loss]})])\n",
    "        res.to_csv('losses.csv', index=False)\n",
    "        \n",
    "        if stopper is None:\n",
    "            sched.step(val_loss)\n",
    "            if sched.compare():\n",
    "                sched, stopper = check_sched(sched, stopper)\n",
    "        elif not stopper.early_stop:\n",
    "                stopper.step(val_loss)\n",
    "        else:\n",
    "            print('INFO: training stopped')\n",
    "            break"
   ]
  },
  {
   "cell_type": "markdown",
   "metadata": {
    "id": "hjKLL4rgmViH"
   },
   "source": [
    "## run"
   ]
  },
  {
   "cell_type": "code",
   "execution_count": 17,
   "metadata": {
    "scrolled": true
   },
   "outputs": [],
   "source": [
    "model = load_model()\n",
    "opt = set_optimizer(model)\n",
    "sched = Scheduler(opt)\n",
    "\n",
    "if reload:\n",
    "    res=pd.read_csv('losses.csv')\n",
    "    sched.load()\n",
    "else:\n",
    "    res=pd.DataFrame()"
   ]
  },
  {
   "cell_type": "code",
   "execution_count": 18,
   "metadata": {
    "scrolled": true
   },
   "outputs": [
    {
     "name": "stdout",
     "output_type": "stream",
     "text": [
      "epoch: 0 | train MSE: 2.8850e-01 | val MSE: 3.5063e-01\n",
      "epoch: 1 | train MSE: 2.4237e-01 | val MSE: 2.0487e-01\n",
      "epoch: 2 | train MSE: 1.6477e-01 | val MSE: 1.8181e-01\n",
      "epoch: 3 | train MSE: 1.5408e-01 | val MSE: 1.6484e-01\n",
      "epoch: 4 | train MSE: 1.3909e-01 | val MSE: 1.6485e-01\n",
      "epoch: 5 | train MSE: 1.2874e-01 | val MSE: 1.4270e-01\n",
      "epoch: 6 | train MSE: 1.3182e-01 | val MSE: 1.3089e-01\n",
      "epoch: 7 | train MSE: 1.3224e-01 | val MSE: 1.3120e-01\n",
      "epoch: 8 | train MSE: 1.2726e-01 | val MSE: 1.5270e-01\n",
      "Epoch 00009: reducing learning rate of group 0 to 2.0000e-02.\n",
      "INFO: scheduler refreshed\n",
      "epoch: 9 | train MSE: 1.3367e-01 | val MSE: 1.5396e-01\n",
      "epoch: 10 | train MSE: 1.3148e-01 | val MSE: 1.4872e-01\n",
      "epoch: 11 | train MSE: 1.3443e-01 | val MSE: 1.5519e-01\n",
      "epoch: 12 | train MSE: 1.1427e-01 | val MSE: 1.5510e-01\n",
      "epoch: 13 | train MSE: 1.3167e-01 | val MSE: 1.5624e-01\n",
      "epoch: 14 | train MSE: 1.1462e-01 | val MSE: 1.6599e-01\n",
      "epoch: 15 | train MSE: 1.3348e-01 | val MSE: 1.5560e-01\n",
      "epoch: 16 | train MSE: 1.2766e-01 | val MSE: 1.5770e-01\n",
      "Epoch 00008: reducing learning rate of group 0 to 1.0000e-02.\n",
      "epoch: 17 | train MSE: 1.1474e-01 | val MSE: 1.6005e-01\n",
      "epoch: 18 | train MSE: 1.2743e-01 | val MSE: 1.6103e-01\n",
      "epoch: 19 | train MSE: 1.1792e-01 | val MSE: 1.6174e-01\n",
      "epoch: 20 | train MSE: 1.1790e-01 | val MSE: 1.6256e-01\n",
      "epoch: 21 | train MSE: 1.1834e-01 | val MSE: 1.6708e-01\n",
      "epoch: 22 | train MSE: 1.1190e-01 | val MSE: 1.6743e-01\n",
      "Epoch 00014: reducing learning rate of group 0 to 5.0000e-03.\n",
      "epoch: 23 | train MSE: 1.1932e-01 | val MSE: 1.6095e-01\n",
      "epoch: 24 | train MSE: 1.1142e-01 | val MSE: 1.6265e-01\n",
      "epoch: 25 | train MSE: 1.1520e-01 | val MSE: 1.6498e-01\n",
      "epoch: 26 | train MSE: 1.1379e-01 | val MSE: 1.7100e-01\n",
      "epoch: 27 | train MSE: 1.1479e-01 | val MSE: 1.6531e-01\n",
      "epoch: 28 | train MSE: 9.4175e-02 | val MSE: 1.7689e-01\n",
      "Epoch 00020: reducing learning rate of group 0 to 2.5000e-03.\n",
      "epoch: 29 | train MSE: 1.1096e-01 | val MSE: 1.6647e-01\n",
      "epoch: 30 | train MSE: 1.1488e-01 | val MSE: 1.7402e-01\n",
      "epoch: 31 | train MSE: 1.1359e-01 | val MSE: 1.7471e-01\n",
      "epoch: 32 | train MSE: 1.1645e-01 | val MSE: 1.6576e-01\n",
      "epoch: 33 | train MSE: 1.0989e-01 | val MSE: 1.7789e-01\n",
      "epoch: 34 | train MSE: 1.1457e-01 | val MSE: 1.7786e-01\n",
      "Epoch 00026: reducing learning rate of group 0 to 1.2500e-03.\n",
      "epoch: 35 | train MSE: 1.0792e-01 | val MSE: 1.7262e-01\n",
      "epoch: 36 | train MSE: 1.0293e-01 | val MSE: 1.7840e-01\n",
      "epoch: 37 | train MSE: 1.1986e-01 | val MSE: 1.7816e-01\n",
      "epoch: 38 | train MSE: 9.7770e-02 | val MSE: 1.7779e-01\n",
      "epoch: 39 | train MSE: 1.1912e-01 | val MSE: 1.7758e-01\n",
      "epoch: 40 | train MSE: 1.1121e-01 | val MSE: 1.7787e-01\n",
      "Epoch 00032: reducing learning rate of group 0 to 1.0000e-03.\n",
      "INFO: LR scheduling ended\n",
      "epoch: 41 | train MSE: 1.1831e-01 | val MSE: 1.7832e-01\n",
      "epoch: 42 | train MSE: 1.0631e-01 | val MSE: 1.7827e-01\n",
      "epoch: 43 | train MSE: 1.0756e-01 | val MSE: 1.7743e-01\n",
      "INFO: stopper counter reset\n",
      "epoch: 44 | train MSE: 1.0424e-01 | val MSE: 1.7633e-01\n",
      "INFO: stopper counter reset\n",
      "epoch: 45 | train MSE: 1.1271e-01 | val MSE: 1.7092e-01\n",
      "INFO: stopper counter reset\n",
      "epoch: 46 | train MSE: 1.1085e-01 | val MSE: 1.6492e-01\n",
      "INFO: stopper counter reset\n",
      "epoch: 47 | train MSE: 1.0448e-01 | val MSE: 1.6782e-01\n",
      "epoch: 48 | train MSE: 1.0921e-01 | val MSE: 1.7793e-01\n",
      "epoch: 49 | train MSE: 1.0312e-01 | val MSE: 1.6725e-01\n",
      "epoch: 50 | train MSE: 1.0102e-01 | val MSE: 1.7645e-01\n",
      "epoch: 51 | train MSE: 1.1878e-01 | val MSE: 1.7237e-01\n",
      "INFO: stopper counter halfway through\n",
      "epoch: 52 | train MSE: 1.1659e-01 | val MSE: 1.7056e-01\n",
      "epoch: 53 | train MSE: 1.1258e-01 | val MSE: 1.7217e-01\n",
      "epoch: 54 | train MSE: 1.1108e-01 | val MSE: 1.7732e-01\n",
      "epoch: 55 | train MSE: 1.0315e-01 | val MSE: 1.7227e-01\n",
      "epoch: 56 | train MSE: 1.1315e-01 | val MSE: 1.7782e-01\n",
      "epoch: 57 | train MSE: 1.1211e-01 | val MSE: 1.7249e-01\n",
      "INFO: training stopped\n"
     ]
    }
   ],
   "source": [
    "fit(model, opt, sched, train_dl, val_dl, res)"
   ]
  }
 ],
 "metadata": {
  "accelerator": "GPU",
  "colab": {
   "collapsed_sections": [],
   "name": "train_nn.ipynb",
   "provenance": []
  },
  "gpuClass": "standard",
  "kernelspec": {
   "display_name": "Python 3.9.13 ('base')",
   "language": "python",
   "name": "python3"
  },
  "language_info": {
   "codemirror_mode": {
    "name": "ipython",
    "version": 3
   },
   "file_extension": ".py",
   "mimetype": "text/x-python",
   "name": "python",
   "nbconvert_exporter": "python",
   "pygments_lexer": "ipython3",
   "version": "3.9.13"
  },
  "toc": {
   "base_numbering": 1,
   "nav_menu": {},
   "number_sections": true,
   "sideBar": true,
   "skip_h1_title": true,
   "title_cell": "Table of Contents",
   "title_sidebar": "Contents",
   "toc_cell": false,
   "toc_position": {
    "height": "calc(100% - 180px)",
    "left": "10px",
    "top": "150px",
    "width": "290.6px"
   },
   "toc_section_display": true,
   "toc_window_display": false
  },
  "vscode": {
   "interpreter": {
    "hash": "4418d9583f84533a22e3bf70f561794691c7595877497fe42a6375318345b6bc"
   }
  },
  "widgets": {
   "application/vnd.jupyter.widget-state+json": {
    "289deea5376640218f1ca3b3e99adb8e": {
     "model_module": "@jupyter-widgets/base",
     "model_module_version": "1.2.0",
     "model_name": "LayoutModel",
     "state": {
      "_model_module": "@jupyter-widgets/base",
      "_model_module_version": "1.2.0",
      "_model_name": "LayoutModel",
      "_view_count": null,
      "_view_module": "@jupyter-widgets/base",
      "_view_module_version": "1.2.0",
      "_view_name": "LayoutView",
      "align_content": null,
      "align_items": null,
      "align_self": null,
      "border": null,
      "bottom": null,
      "display": null,
      "flex": null,
      "flex_flow": null,
      "grid_area": null,
      "grid_auto_columns": null,
      "grid_auto_flow": null,
      "grid_auto_rows": null,
      "grid_column": null,
      "grid_gap": null,
      "grid_row": null,
      "grid_template_areas": null,
      "grid_template_columns": null,
      "grid_template_rows": null,
      "height": null,
      "justify_content": null,
      "justify_items": null,
      "left": null,
      "margin": null,
      "max_height": null,
      "max_width": null,
      "min_height": null,
      "min_width": null,
      "object_fit": null,
      "object_position": null,
      "order": null,
      "overflow": null,
      "overflow_x": null,
      "overflow_y": null,
      "padding": null,
      "right": null,
      "top": null,
      "visibility": null,
      "width": null
     }
    },
    "2f7e95f338a44b50a5913bcbd3dd459d": {
     "model_module": "@jupyter-widgets/controls",
     "model_module_version": "1.5.0",
     "model_name": "DescriptionStyleModel",
     "state": {
      "_model_module": "@jupyter-widgets/controls",
      "_model_module_version": "1.5.0",
      "_model_name": "DescriptionStyleModel",
      "_view_count": null,
      "_view_module": "@jupyter-widgets/base",
      "_view_module_version": "1.2.0",
      "_view_name": "StyleView",
      "description_width": ""
     }
    },
    "3a9dd1859b8c43098c6637ad1f9f2175": {
     "model_module": "@jupyter-widgets/controls",
     "model_module_version": "1.5.0",
     "model_name": "ProgressStyleModel",
     "state": {
      "_model_module": "@jupyter-widgets/controls",
      "_model_module_version": "1.5.0",
      "_model_name": "ProgressStyleModel",
      "_view_count": null,
      "_view_module": "@jupyter-widgets/base",
      "_view_module_version": "1.2.0",
      "_view_name": "StyleView",
      "bar_color": null,
      "description_width": ""
     }
    },
    "5caf03f23d2e49a08b23238966580708": {
     "model_module": "@jupyter-widgets/controls",
     "model_module_version": "1.5.0",
     "model_name": "HTMLModel",
     "state": {
      "_dom_classes": [],
      "_model_module": "@jupyter-widgets/controls",
      "_model_module_version": "1.5.0",
      "_model_name": "HTMLModel",
      "_view_count": null,
      "_view_module": "@jupyter-widgets/controls",
      "_view_module_version": "1.5.0",
      "_view_name": "HTMLView",
      "description": "",
      "description_tooltip": null,
      "layout": "IPY_MODEL_a344557606d04c92b84bacde284f43e2",
      "placeholder": "​",
      "style": "IPY_MODEL_aa836decf8d44546b7966f8ace2d515e",
      "value": " 74.5M/74.5M [00:00&lt;00:00, 217MB/s]"
     }
    },
    "6a883486fb614f19a07d43add11ac8d3": {
     "model_module": "@jupyter-widgets/controls",
     "model_module_version": "1.5.0",
     "model_name": "HBoxModel",
     "state": {
      "_dom_classes": [],
      "_model_module": "@jupyter-widgets/controls",
      "_model_module_version": "1.5.0",
      "_model_name": "HBoxModel",
      "_view_count": null,
      "_view_module": "@jupyter-widgets/controls",
      "_view_module_version": "1.5.0",
      "_view_name": "HBoxView",
      "box_style": "",
      "children": [
       "IPY_MODEL_9d84af1e476f47aeb3d86e0f3ac4d491",
       "IPY_MODEL_83589e78972b4b58b6031c657735c1ff",
       "IPY_MODEL_5caf03f23d2e49a08b23238966580708"
      ],
      "layout": "IPY_MODEL_9515c7b19a0e4ad0bea59b2528a74a83"
     }
    },
    "83589e78972b4b58b6031c657735c1ff": {
     "model_module": "@jupyter-widgets/controls",
     "model_module_version": "1.5.0",
     "model_name": "FloatProgressModel",
     "state": {
      "_dom_classes": [],
      "_model_module": "@jupyter-widgets/controls",
      "_model_module_version": "1.5.0",
      "_model_name": "FloatProgressModel",
      "_view_count": null,
      "_view_module": "@jupyter-widgets/controls",
      "_view_module_version": "1.5.0",
      "_view_name": "ProgressView",
      "bar_style": "success",
      "description": "",
      "description_tooltip": null,
      "layout": "IPY_MODEL_d98516a9a6db4f9fa8e14b4f64739124",
      "max": 78107389,
      "min": 0,
      "orientation": "horizontal",
      "style": "IPY_MODEL_3a9dd1859b8c43098c6637ad1f9f2175",
      "value": 78107389
     }
    },
    "9515c7b19a0e4ad0bea59b2528a74a83": {
     "model_module": "@jupyter-widgets/base",
     "model_module_version": "1.2.0",
     "model_name": "LayoutModel",
     "state": {
      "_model_module": "@jupyter-widgets/base",
      "_model_module_version": "1.2.0",
      "_model_name": "LayoutModel",
      "_view_count": null,
      "_view_module": "@jupyter-widgets/base",
      "_view_module_version": "1.2.0",
      "_view_name": "LayoutView",
      "align_content": null,
      "align_items": null,
      "align_self": null,
      "border": null,
      "bottom": null,
      "display": null,
      "flex": null,
      "flex_flow": null,
      "grid_area": null,
      "grid_auto_columns": null,
      "grid_auto_flow": null,
      "grid_auto_rows": null,
      "grid_column": null,
      "grid_gap": null,
      "grid_row": null,
      "grid_template_areas": null,
      "grid_template_columns": null,
      "grid_template_rows": null,
      "height": null,
      "justify_content": null,
      "justify_items": null,
      "left": null,
      "margin": null,
      "max_height": null,
      "max_width": null,
      "min_height": null,
      "min_width": null,
      "object_fit": null,
      "object_position": null,
      "order": null,
      "overflow": null,
      "overflow_x": null,
      "overflow_y": null,
      "padding": null,
      "right": null,
      "top": null,
      "visibility": null,
      "width": null
     }
    },
    "9d84af1e476f47aeb3d86e0f3ac4d491": {
     "model_module": "@jupyter-widgets/controls",
     "model_module_version": "1.5.0",
     "model_name": "HTMLModel",
     "state": {
      "_dom_classes": [],
      "_model_module": "@jupyter-widgets/controls",
      "_model_module_version": "1.5.0",
      "_model_name": "HTMLModel",
      "_view_count": null,
      "_view_module": "@jupyter-widgets/controls",
      "_view_module_version": "1.5.0",
      "_view_name": "HTMLView",
      "description": "",
      "description_tooltip": null,
      "layout": "IPY_MODEL_289deea5376640218f1ca3b3e99adb8e",
      "placeholder": "​",
      "style": "IPY_MODEL_2f7e95f338a44b50a5913bcbd3dd459d",
      "value": "100%"
     }
    },
    "a344557606d04c92b84bacde284f43e2": {
     "model_module": "@jupyter-widgets/base",
     "model_module_version": "1.2.0",
     "model_name": "LayoutModel",
     "state": {
      "_model_module": "@jupyter-widgets/base",
      "_model_module_version": "1.2.0",
      "_model_name": "LayoutModel",
      "_view_count": null,
      "_view_module": "@jupyter-widgets/base",
      "_view_module_version": "1.2.0",
      "_view_name": "LayoutView",
      "align_content": null,
      "align_items": null,
      "align_self": null,
      "border": null,
      "bottom": null,
      "display": null,
      "flex": null,
      "flex_flow": null,
      "grid_area": null,
      "grid_auto_columns": null,
      "grid_auto_flow": null,
      "grid_auto_rows": null,
      "grid_column": null,
      "grid_gap": null,
      "grid_row": null,
      "grid_template_areas": null,
      "grid_template_columns": null,
      "grid_template_rows": null,
      "height": null,
      "justify_content": null,
      "justify_items": null,
      "left": null,
      "margin": null,
      "max_height": null,
      "max_width": null,
      "min_height": null,
      "min_width": null,
      "object_fit": null,
      "object_position": null,
      "order": null,
      "overflow": null,
      "overflow_x": null,
      "overflow_y": null,
      "padding": null,
      "right": null,
      "top": null,
      "visibility": null,
      "width": null
     }
    },
    "aa836decf8d44546b7966f8ace2d515e": {
     "model_module": "@jupyter-widgets/controls",
     "model_module_version": "1.5.0",
     "model_name": "DescriptionStyleModel",
     "state": {
      "_model_module": "@jupyter-widgets/controls",
      "_model_module_version": "1.5.0",
      "_model_name": "DescriptionStyleModel",
      "_view_count": null,
      "_view_module": "@jupyter-widgets/base",
      "_view_module_version": "1.2.0",
      "_view_name": "StyleView",
      "description_width": ""
     }
    },
    "d98516a9a6db4f9fa8e14b4f64739124": {
     "model_module": "@jupyter-widgets/base",
     "model_module_version": "1.2.0",
     "model_name": "LayoutModel",
     "state": {
      "_model_module": "@jupyter-widgets/base",
      "_model_module_version": "1.2.0",
      "_model_name": "LayoutModel",
      "_view_count": null,
      "_view_module": "@jupyter-widgets/base",
      "_view_module_version": "1.2.0",
      "_view_name": "LayoutView",
      "align_content": null,
      "align_items": null,
      "align_self": null,
      "border": null,
      "bottom": null,
      "display": null,
      "flex": null,
      "flex_flow": null,
      "grid_area": null,
      "grid_auto_columns": null,
      "grid_auto_flow": null,
      "grid_auto_rows": null,
      "grid_column": null,
      "grid_gap": null,
      "grid_row": null,
      "grid_template_areas": null,
      "grid_template_columns": null,
      "grid_template_rows": null,
      "height": null,
      "justify_content": null,
      "justify_items": null,
      "left": null,
      "margin": null,
      "max_height": null,
      "max_width": null,
      "min_height": null,
      "min_width": null,
      "object_fit": null,
      "object_position": null,
      "order": null,
      "overflow": null,
      "overflow_x": null,
      "overflow_y": null,
      "padding": null,
      "right": null,
      "top": null,
      "visibility": null,
      "width": null
     }
    }
   }
  }
 },
 "nbformat": 4,
 "nbformat_minor": 1
}
